{
 "cells": [
  {
   "cell_type": "code",
   "execution_count": 1,
   "id": "aa81d8e8",
   "metadata": {},
   "outputs": [
    {
     "name": "stdout",
     "output_type": "stream",
     "text": [
      "Enter the Response : There are Twenty-Four hours in a day. A year has 14 months\n",
      "Enter the Answer : There are twenty-four hours in a day, 30 days in a month, and 12 months in the calendar year\n",
      "Candidate Score is : 10\n",
      "Maximum Score is : 18\n",
      "Percentage of Candidate : 55.56\n"
     ]
    }
   ],
   "source": [
    "def Find_score(response,answer):\n",
    "    response = response.lower()\n",
    "    answer = answer.lower()\n",
    "    max_score = 0\n",
    "    cad_score = 0\n",
    "    points = { 1:4, 2:3, 3:0, 4:1}\n",
    "    r = response.split()\n",
    "    a = answer.split()\n",
    "    for i in range(0,len(a)):\n",
    "        po = 0\n",
    "        size = len(a[i])\n",
    "        if(a[i].isnumeric()):\n",
    "            po = points[1]\n",
    "        elif(len(a[i])>7):\n",
    "            po = points[2]\n",
    "        elif(len(a[i])<5):\n",
    "            po = points[3]\n",
    "        else:\n",
    "            po = points[4]\n",
    "        max_score = max_score + po\n",
    "        if(i<len(r)):\n",
    "            if(r[i] in a):\n",
    "                cad_score = cad_score + po\n",
    "    print(f\"Candidate Score is : {cad_score}\")\n",
    "    print(f\"Maximum Score is : {max_score}\")\n",
    "    if(max_score==0):\n",
    "        return 100\n",
    "    if(cad_score==0):\n",
    "        return 0\n",
    "    per = (cad_score/max_score)*100\n",
    "    return per\n",
    "\n",
    "cad_res = input(\"Enter the Response : \")  \n",
    "crrct_ans = input(\"Enter the Answer : \")  \n",
    "score =\"{:.2f}\".format(Find_score(cad_res,crrct_ans))\n",
    "print(f\"Percentage of Candidate : {score}\")"
   ]
  },
  {
   "cell_type": "code",
   "execution_count": null,
   "id": "6e1891c1",
   "metadata": {},
   "outputs": [],
   "source": []
  }
 ],
 "metadata": {
  "kernelspec": {
   "display_name": "Python 3 (ipykernel)",
   "language": "python",
   "name": "python3"
  },
  "language_info": {
   "codemirror_mode": {
    "name": "ipython",
    "version": 3
   },
   "file_extension": ".py",
   "mimetype": "text/x-python",
   "name": "python",
   "nbconvert_exporter": "python",
   "pygments_lexer": "ipython3",
   "version": "3.10.0"
  }
 },
 "nbformat": 4,
 "nbformat_minor": 5
}
